{
  "cells": [
    {
      "cell_type": "markdown",
      "metadata": {
        "colab_type": "text",
        "id": "view-in-github"
      },
      "source": [
        "<a href=\"https://colab.research.google.com/github/akshitadixit/Retinopathy/blob/main/data_cleaning.ipynb\" target=\"_parent\"><img src=\"https://colab.research.google.com/assets/colab-badge.svg\" alt=\"Open In Colab\"/></a>"
      ]
    },
    {
      "cell_type": "code",
      "execution_count": null,
      "metadata": {
        "id": "V7zEaa7NVsml"
      },
      "outputs": [],
      "source": [
        "from google.colab.patches import cv2_imshow\n",
        "data_root = \"/content/gdrive/My Drive/Colab Notebooks/dataset\"\n",
        "classes = ['symptoms', 'nosymptoms']\n",
        "for c in classes:\n",
        "  path = os.path.join(data_root, c)\n",
        "  for i in os.listdir(path):\n",
        "    img = cv2.imread(os.path.join(path, i))"
      ]
    },
    {
      "cell_type": "code",
      "execution_count": null,
      "metadata": {
        "id": "JZ4eXpchbIpg"
      },
      "outputs": [],
      "source": [
        "img_size = 500\n",
        "training_data = []\n",
        "\n",
        "def create_training_data(category):\n",
        "  id = classes.index(category)\n",
        "  path = os.path.join(data_root, category)\n",
        "  j = 1500\n",
        "  for i in os.listdir(path)[::-1]:\n",
        "    img = cv2.imread(os.path.join(path, i))\n",
        "\n",
        "    # pre-process\n",
        "    img = cv2.cvtColor(img, cv2.COLOR_BGR2RGB)\n",
        "\n",
        "    height,width, _ = img.shape\n",
        "    x = int(width/2)\n",
        "    y = int(height/2)\n",
        "    r = np.amin((x,y))\n",
        "    circle_img = np.zeros((height, width), np.uint8)\n",
        "    cv2.circle(circle_img, (x,y), int(r), 1, thickness=-1)\n",
        "    img = cv2.bitwise_and(img, img, mask=circle_img)\n",
        "\n",
        "    img = cv2.addWeighted(img,4, cv2.GaussianBlur(img , (0,0) , 30) ,-4 ,128)\n",
        "\n",
        "    img1 = cv2.resize(img, (500, 500), interpolation=cv2.INTER_NEAREST)\n",
        "\n",
        "    # after applying circle-crop, gaussian blur and then resize\n",
        "    img = cv2.cvtColor(img, cv2.COLOR_RGB2BGR)\n",
        "    training_data.append([img, id])\n",
        "    cv2.imwrite(data_root+\"/pro\"+category+\"/\"+str(j)+\".jpg\", img)\n",
        "    j = j-1"
      ]
    },
    {
      "cell_type": "code",
      "execution_count": null,
      "metadata": {
        "id": "-D-Na6YtcQ5l"
      },
      "outputs": [],
      "source": [
        "create_training_data('symptoms')\n",
        "print(len(training_data))"
      ]
    },
    {
      "cell_type": "code",
      "execution_count": null,
      "metadata": {
        "id": "jKb2E45gIRPm"
      },
      "outputs": [],
      "source": [
        "create_training_data('nosymptoms')\n",
        "print(len(training_data))"
      ]
    },
    {
      "cell_type": "code",
      "execution_count": null,
      "metadata": {
        "id": "YJv1t38qqdy3"
      },
      "outputs": [],
      "source": []
    }
  ],
  "metadata": {
    "colab": {
      "authorship_tag": "ABX9TyMsGItd1qqyTHK1GOD7Tyqj",
      "include_colab_link": true,
      "name": "data-cleaning.ipynb",
      "provenance": []
    },
    "kernelspec": {
      "display_name": "Python 3",
      "name": "python3"
    },
    "language_info": {
      "codemirror_mode": {
        "name": "ipython",
        "version": 3
      },
      "file_extension": ".py",
      "mimetype": "text/x-python",
      "name": "python",
      "nbconvert_exporter": "python",
      "pygments_lexer": "ipython3",
      "version": "3.12.4"
    }
  },
  "nbformat": 4,
  "nbformat_minor": 0
}
